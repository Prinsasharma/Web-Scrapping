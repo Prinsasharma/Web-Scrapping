{
  "nbformat": 4,
  "nbformat_minor": 0,
  "metadata": {
    "colab": {
      "provenance": []
    },
    "kernelspec": {
      "name": "python3",
      "display_name": "Python 3"
    },
    "language_info": {
      "name": "python"
    }
  },
  "cells": [
    {
      "cell_type": "markdown",
      "source": [
        "# **Web Scraping & Data Handling Challenge**"
      ],
      "metadata": {
        "id": "bKFlk3slQ1ol"
      }
    },
    {
      "cell_type": "markdown",
      "source": [
        "Presentor - **Prinsa Sharma**\n",
        "\n",
        "Contribution - Individual\n",
        "\n",
        "Github Link -"
      ],
      "metadata": {
        "id": "WXJ5IqsUxq3Z"
      }
    },
    {
      "cell_type": "markdown",
      "source": [
        "\n",
        "\n",
        "### **Website:**\n",
        "JustWatch -  https://www.justwatch.com/in/movies?release_year_from=2000\n",
        "\n",
        "\n",
        "### **Description:**\n",
        "\n",
        "JustWatch is a popular platform that allows users to search for movies and TV shows across multiple streaming services like Netflix, Amazon Prime, Hulu, etc. For this assignment, you will be required to scrape movie and TV show data from JustWatch using Selenium, Python, and BeautifulSoup. Extract data from HTML, not by directly calling their APIs. Then, perform data filtering and analysis using Pandas, and finally, save the results to a CSV file.\n",
        "\n",
        "### **Tasks:**\n",
        "\n",
        "**1. Web Scraping:**\n",
        "\n",
        "Use BeautifulSoup to scrape the following data from JustWatch:\n",
        "\n",
        "   **a. Movie Information:**\n",
        "\n",
        "      - Movie title\n",
        "      - Release year\n",
        "      - Genre\n",
        "      - IMDb rating\n",
        "      - Streaming services available (Netflix, Amazon Prime, Hulu, etc.)\n",
        "      - URL to the movie page on JustWatch\n",
        "\n",
        "   **b. TV Show Information:**\n",
        "\n",
        "      - TV show title\n",
        "      - Release year\n",
        "      - Genre\n",
        "      - IMDb rating\n",
        "      - Streaming services available (Netflix, Amazon Prime, Hulu, etc.)\n",
        "      - URL to the TV show page on JustWatch\n",
        "\n",
        "  **c. Scope:**\n",
        "\n",
        "```\n",
        " ` - Scrape data for at least 50 movies and 50 TV shows.\n",
        "   - You can choose the entry point (e.g., starting with popular movies,\n",
        "     or a specific genre, etc.) to ensure a diverse dataset.`\n",
        "\n",
        "```\n",
        "\n",
        "\n",
        "**2. Data Filtering & Analysis:**\n",
        "\n",
        "   After scraping the data, use Pandas to perform the following tasks:\n",
        "\n",
        "   **a. Filter movies and TV shows based on specific criteria:**\n",
        "\n",
        "   ```\n",
        "      - Only include movies and TV shows released in the last 2 years (from the current date).\n",
        "      - Only include movies and TV shows with an IMDb rating of 7 or higher.\n",
        "```\n",
        "\n",
        "   **b. Data Analysis:**\n",
        "\n",
        "   ```\n",
        "      - Calculate the average IMDb rating for the scraped movies and TV shows.\n",
        "      - Identify the top 5 genres that have the highest number of available movies and TV shows.\n",
        "      - Determine the streaming service with the most significant number of offerings.\n",
        "      \n",
        "   ```   \n",
        "\n",
        "**3. Data Export:**\n",
        "\n",
        "```\n",
        "   - Dump the filtered and analysed data into a CSV file for further processing and reporting.\n",
        "\n",
        "   - Keep the CSV file in your Drive Folder and Share the Drive link on the colab while keeping view access with anyone.\n",
        "```\n",
        "\n",
        "**Submission:**\n",
        "```\n",
        "- Submit a link to your Colab made for the assignment.\n",
        "\n",
        "- The Colab should contain your Python script (.py format only) with clear\n",
        "  comments explaining the scraping, filtering, and analysis process.\n",
        "\n",
        "- Your Code shouldn't have any errors and should be executable at a one go.\n",
        "\n",
        "- Before Conclusion, Keep your Dataset Drive Link in the Notebook.\n",
        "```\n",
        "\n",
        "\n",
        "\n",
        "**Note:**\n",
        "\n",
        "1. Properly handle errors and exceptions during web scraping to ensure a robust script.\n",
        "\n",
        "2. Make sure your code is well-structured, easy to understand, and follows Python best practices.\n",
        "\n",
        "3. The assignment will be evaluated based on the correctness of the scraped data, accuracy of data filtering and analysis, and the overall quality of the Python code.\n",
        "\n",
        "\n",
        "\n",
        "\n",
        "\n",
        "\n"
      ],
      "metadata": {
        "id": "YU_opgaCYpcO"
      }
    },
    {
      "cell_type": "markdown",
      "source": [
        "# **Start The Project**"
      ],
      "metadata": {
        "id": "k8ptoMlNQ5zB"
      }
    },
    {
      "cell_type": "markdown",
      "source": [
        "## **Task 1:- Web Scrapping**"
      ],
      "metadata": {
        "id": "-xHLaFLPn4yC"
      }
    },
    {
      "cell_type": "code",
      "source": [
        "#Installing all necessary labraries\n",
        "!pip install bs4\n",
        "!pip install requests"
      ],
      "metadata": {
        "id": "axiEsy9ZL3qd",
        "colab": {
          "base_uri": "https://localhost:8080/"
        },
        "outputId": "c586532f-a9a8-43cc-e162-8cc79aaea760"
      },
      "execution_count": 1,
      "outputs": [
        {
          "output_type": "stream",
          "name": "stdout",
          "text": [
            "Collecting bs4\n",
            "  Downloading bs4-0.0.2-py2.py3-none-any.whl (1.2 kB)\n",
            "Requirement already satisfied: beautifulsoup4 in /usr/local/lib/python3.10/dist-packages (from bs4) (4.12.3)\n",
            "Requirement already satisfied: soupsieve>1.2 in /usr/local/lib/python3.10/dist-packages (from beautifulsoup4->bs4) (2.5)\n",
            "Installing collected packages: bs4\n",
            "Successfully installed bs4-0.0.2\n",
            "Requirement already satisfied: requests in /usr/local/lib/python3.10/dist-packages (2.31.0)\n",
            "Requirement already satisfied: charset-normalizer<4,>=2 in /usr/local/lib/python3.10/dist-packages (from requests) (3.3.2)\n",
            "Requirement already satisfied: idna<4,>=2.5 in /usr/local/lib/python3.10/dist-packages (from requests) (3.6)\n",
            "Requirement already satisfied: urllib3<3,>=1.21.1 in /usr/local/lib/python3.10/dist-packages (from requests) (2.0.7)\n",
            "Requirement already satisfied: certifi>=2017.4.17 in /usr/local/lib/python3.10/dist-packages (from requests) (2024.2.2)\n"
          ]
        }
      ]
    },
    {
      "cell_type": "code",
      "source": [
        "#import all necessary labraries\n",
        "\n",
        "from bs4 import BeautifulSoup\n",
        "import requests\n",
        "import pandas as pd\n",
        "import matplotlib.pyplot as plt\n",
        "from wordcloud import WordCloud\n",
        "import numpy as np\n",
        "import re\n",
        ""
      ],
      "metadata": {
        "id": "omJlLZASQBmU"
      },
      "execution_count": 3,
      "outputs": []
    },
    {
      "cell_type": "markdown",
      "source": [
        "## **Scrapping Movies Data**"
      ],
      "metadata": {
        "id": "NCWbwB1Og3bD"
      }
    },
    {
      "cell_type": "code",
      "source": [
        "# Necessary imports\n",
        "import requests\n",
        "from bs4 import BeautifulSoup\n",
        "\n",
        "# Specifying the URL from which movies related data will be fetched\n",
        "url = 'https://www.justwatch.com/in/movies?release_year_from=2000'\n",
        "\n",
        "# Sending an HTTP GET request to the URL\n",
        "response = requests.get(url)\n",
        "\n",
        "# It's a good practice to check if the request was successful\n",
        "if response.status_code == 200:\n",
        "    # Parsing the HTML content using BeautifulSoup with the 'html.parser'\n",
        "    soup = BeautifulSoup(response.content, 'html.parser')  # Use page.content for binary content\n",
        "\n",
        "    # Printing the prettified HTML content (this could be a large output)\n",
        "    print(soup.prettify())\n",
        "else:\n",
        "    print(\"Error fetching the page: Status code\", response.status_code)\n"
      ],
      "metadata": {
        "id": "nPDgza5mQJKr"
      },
      "execution_count": null,
      "outputs": []
    },
    {
      "cell_type": "markdown",
      "source": [
        "## **Fetching Movie URL's**"
      ],
      "metadata": {
        "id": "V-qsNrtIsBEp"
      }
    },
    {
      "cell_type": "code",
      "source": [
        "\n",
        "#first of all defining a movie title list\n",
        "\n",
        "movie_title_list=[]# List to store all movie title\n",
        "\n",
        "# Extracting all movie titles from  tag and storing them in movie_titles\n",
        "movie_titles = soup.find_all('a',class_='title-list-grid__item--link',attrs={'href':True})\n",
        "\n",
        "# Extracting each movie title from movie_titles and storing in movie_title_list\n",
        "for movie_title in movie_titles:\n",
        "\n",
        "    # Extract the 'href' attribute value, which contains the movie title\n",
        "    data_id_value = movie_title['href']\n",
        "\n",
        "    # Removing the '/in/movie/' prefix to get the clean movie title\n",
        "    data_id_value = data_id_value.replace(\"/in/movie/\",\"\")\n",
        "\n",
        "    # Converting the movie title to uppercase and appending to the list\n",
        "    movie_title_list.append(data_id_value.upper())\n",
        "\n",
        "\n",
        "#  now fetching Movie url using movie titles\n",
        "\n",
        "movie_url_list=[] # List to store all movie urls\n",
        "\n",
        "# For every movie title present in movies_title_list , Finding their url\n",
        "for movie in movie_title_list:\n",
        "\n",
        "    # Constructing the absolute URL for fetching each movie\n",
        "    absolute_url = 'https://www.justwatch.com/in/movie/' + movie\n",
        "    movie_url_list.append(absolute_url)\n",
        "#Printing first 4 movie url\n",
        "print('\\n'.join(movie_url_list[0:4]))\n"
      ],
      "metadata": {
        "id": "nXj9U4lshQY1",
        "colab": {
          "base_uri": "https://localhost:8080/"
        },
        "outputId": "d583c545-8d3c-4f42-b93a-12569ed90a6e"
      },
      "execution_count": 63,
      "outputs": [
        {
          "output_type": "stream",
          "name": "stdout",
          "text": [
            "\n"
          ]
        }
      ]
    },
    {
      "cell_type": "markdown",
      "source": [
        "## **Scrapping Movie Title**"
      ],
      "metadata": {
        "id": "Dam_ehZgvgmw"
      }
    },
    {
      "cell_type": "code",
      "source": [
        "# Movie title has been extracted in previous block now printing first 4 movie title\n",
        "print('\\n'.join(movie_title_list[0:4]))"
      ],
      "metadata": {
        "id": "1FGDXRKQxd1s",
        "colab": {
          "base_uri": "https://localhost:8080/"
        },
        "outputId": "c23f7d7d-99c7-4b2f-ce18-2f8b8c1db228"
      },
      "execution_count": 44,
      "outputs": [
        {
          "output_type": "stream",
          "name": "stdout",
          "text": [
            "HANU-MAN\n",
            "OPPENHEIMER\n",
            "UNTITLED-SHAHID-KAPOOR-KRITI-SANON-FILM\n",
            "FIGHTER-2022\n"
          ]
        }
      ]
    },
    {
      "cell_type": "markdown",
      "source": [
        "## **Scrapping release Year**"
      ],
      "metadata": {
        "id": "VEg1U1uPzGoj"
      }
    },
    {
      "cell_type": "code",
      "source": [
        "    # Movie release year\n",
        "movie_release_year_list = []# List to store all movie release year\n",
        "\n",
        "# For every movie title present in movies_title_list , Finding their release year\n",
        "for movie in movie_title_list:\n",
        "\n",
        "    # Constructing the absolute URL for fetching each movie\n",
        "  absolute_url = 'https://www.justwatch.com/in/movie/' + movie\n",
        "\n",
        "    # Sending an HTTP GET request to the\n",
        "  response_ry = requests.get(absolute_url)\n",
        "\n",
        "    # Parsing HTML content with Beautiful Soup\n",
        "  soup_ry = BeautifulSoup(response_ry.text,'html.parser')\n",
        "  element = soup_ry.find('span', class_='text-muted')\n",
        "  if element:\n",
        "            movie_release_year = element.text.strip().strip(\"()\")\n",
        "  else:\n",
        "            movie_release_year = \"Not Found\"\n",
        "\n",
        "\n",
        "  movie_release_year=movie_release_year.replace(\"(\",\"\")\n",
        "  movie_release_year=movie_release_year.replace(\")\",\"\")\n",
        "  movie_release_year_list.append(movie_release_year)\n",
        "# Printing release year of first 4 movie for testing the code\n",
        "print('\\n'.join(movie_release_year_list[0:4]))"
      ],
      "metadata": {
        "id": "wLqLKOvP5Gmt",
        "colab": {
          "base_uri": "https://localhost:8080/"
        },
        "outputId": "00ee5106-7b07-46eb-f3e3-deecf4aad8b7"
      },
      "execution_count": 43,
      "outputs": [
        {
          "output_type": "stream",
          "name": "stdout",
          "text": [
            "2024\n",
            "2023\n",
            "2024\n",
            "2024\n"
          ]
        }
      ]
    },
    {
      "cell_type": "markdown",
      "source": [
        "## **Scrapping Genres**"
      ],
      "metadata": {
        "id": "aqzhL8STqaMX"
      }
    },
    {
      "cell_type": "code",
      "source": [
        "# Movie genre\n",
        "\n",
        "movie_genre_list = []# List to store all movie genre\n",
        "\n",
        "# For every movie title present in movies_title_list , Finding their genre\n",
        "for movie in movie_title_list:\n",
        "\n",
        "    # Constructing the absolute URL for fetching each movie\n",
        "    absolute_url = 'https://www.justwatch.com/in/movie/' + movie\n",
        "    response_g = requests.get(absolute_url)\n",
        "    soup = BeautifulSoup(response_g.text,'html.parser')\n",
        "\n",
        "    # Selecting only those h3 whose heading is genres\n",
        "    h3_element = soup.find('h3', class_='detail-infos__subheading', string='Genres')\n",
        "\n",
        "    if h3_element:\n",
        "        # Check if the next sibling is a div with class \"detail-infos__value\"\n",
        "        div_element = h3_element.find_next_sibling('div', class_='detail-infos__value')\n",
        "\n",
        "        if div_element:\n",
        "            movie_genre_list.append(div_element.text.strip())\n",
        "        else:\n",
        "            movie_genre_list.append(\"Genre Not Listed\")\n",
        "    else:\n",
        "         movie_genre_list.append(\"Genre Not Listed\")\n",
        "# Printing movie genre for first 4 movies for testing the code\n",
        "print('\\n'.join(movie_genre_list[0:4]))\n"
      ],
      "metadata": {
        "id": "NYGVsfKjrDWr",
        "colab": {
          "base_uri": "https://localhost:8080/"
        },
        "outputId": "1b1725b0-128a-4a43-ff53-171b0e268070"
      },
      "execution_count": 46,
      "outputs": [
        {
          "output_type": "stream",
          "name": "stdout",
          "text": [
            "Fantasy, Action & Adventure, Comedy, Science-Fiction\n",
            "Drama, History\n",
            "Comedy, Drama, Romance, Science-Fiction\n",
            "Action & Adventure, Mystery & Thriller, War & Military\n"
          ]
        }
      ]
    },
    {
      "cell_type": "markdown",
      "source": [
        "## **Scrapping IMBD Rating**"
      ],
      "metadata": {
        "id": "UOof6-0xFuf6"
      }
    },
    {
      "cell_type": "code",
      "source": [
        "# Write Your Code here\n",
        "\n",
        "movie_imdb_list = []# List to store all movie imdb rating\n",
        "\n",
        "# For every movie title present in movies_title_list , Finding their Imdb Rating\n",
        "for movie in movie_title_list:\n",
        "\n",
        "    # Constructing the absolute URL for fetching each movie\n",
        "    absolute_url = 'https://www.justwatch.com/in/movie/' + movie\n",
        "    response_g = requests.get(absolute_url)\n",
        "    soup = BeautifulSoup(response_g.text, 'html.parser')\n",
        "\n",
        "    # Selecting only those h3 whose heading is Rating\n",
        "    h3_element = soup.find('h3', class_='detail-infos__subheading', string='Rating')\n",
        "\n",
        "    if h3_element:\n",
        "        # Check if the next sibling is a div with class \"detail-infos__value\"\n",
        "        div_element = h3_element.find_next_sibling('div', class_='detail-infos__value')\n",
        "\n",
        "        if div_element:\n",
        "            inside_div = div_element.find_all('div', class_='jw-scoring-listing__rating')\n",
        "\n",
        "            # Check if inside_div is non-empty\n",
        "            if inside_div:\n",
        "                inside_div_last = inside_div[-1] # extracting last div of inside div as last div elemnt contains span (in which last span contains rating)\n",
        "\n",
        "                # Check if inside_div_last is non-empty\n",
        "                if inside_div_last:\n",
        "                    span_all = inside_div_last.find_all('span')\n",
        "\n",
        "                    # Check if span_all is non-empty\n",
        "                    if span_all:\n",
        "                        span_last = span_all[-1] # Here we are extracting rating from the last span(span_last) inside last div(inside_div_last) of main div_element(div_element)\n",
        "                        movie_imdb_list.append(span_last.text.strip())\n",
        "                    else:\n",
        "                        movie_imdb_list.append(\"Imdb Rating Not Listed.\")\n",
        "                else:\n",
        "                    movie_imdb_list.append(\"Imdb Rating Not Listed.\")\n",
        "            else:\n",
        "                movie_imdb_list.append(\"Imdb Rating Not Listed.\")\n",
        "        else:\n",
        "            movie_imdb_list.append(\"Imdb Rating Not Listed.\")\n",
        "    else:\n",
        "        movie_imdb_list.append(\"Imdb Rating Not Listed.\")\n",
        "# Printing movie imdb rating for first 4 movies for testing the code\n",
        "print('\\n'.join(movie_imdb_list[0:4]))"
      ],
      "metadata": {
        "id": "gW467MLx6aCH",
        "colab": {
          "base_uri": "https://localhost:8080/"
        },
        "outputId": "9899302c-4446-4230-c70d-ffbe310404b5"
      },
      "execution_count": 53,
      "outputs": [
        {
          "output_type": "stream",
          "name": "stdout",
          "text": [
            "8.0  (21k)\n",
            "8.3  (706k)\n",
            "6.6  (44k)\n",
            "6.4  (42k)\n"
          ]
        }
      ]
    },
    {
      "cell_type": "markdown",
      "source": [
        "## **Scrapping Runtime/Duration**"
      ],
      "metadata": {
        "id": "8CHiu0A5RAuM"
      }
    },
    {
      "cell_type": "code",
      "source": [
        "# Write Your Code here\n",
        "\n",
        "# Movie Runtime/Duration\n",
        "\n",
        "movie_runtime_list=[]# List to store all movie runtime/duration\n",
        "\n",
        "# For every movie title present in movies_title_list , Finding their Runtime/Duration\n",
        "for movie in movie_title_list:\n",
        "\n",
        "    # Constructing the absolute URL for fetching each movie\n",
        "    absolute_url = 'https://www.justwatch.com/in/movie/' + movie\n",
        "    response_g = requests.get(absolute_url)\n",
        "    soup = BeautifulSoup(response_g.text,'html.parser')\n",
        "\n",
        "    # Selecting only those h3 whose heading is runtine\n",
        "    h3_element = soup.find('h3', class_='detail-infos__subheading', string='Runtime')\n",
        "\n",
        "    if h3_element:\n",
        "        # Check if the next sibling is a div with class \"detail-infos__value\"\n",
        "        div_element = h3_element.find_next_sibling('div', class_='detail-infos__value')\n",
        "\n",
        "        if div_element:\n",
        "            movie_runtime_list.append(div_element.text.strip())\n",
        "        else:\n",
        "            movie_runtime_list.append(\"No Runtime/Duration mentioned\")\n",
        "    else:\n",
        "      movie_runtime_list.append(\"No Runtime/Duration mentioned\")\n",
        "\n",
        "# Printing movie runtime for first 4 movies for testing the code\n",
        "print('\\n'.join(movie_runtime_list[0:4]))"
      ],
      "metadata": {
        "id": "si_yaGO8OTBo",
        "colab": {
          "base_uri": "https://localhost:8080/"
        },
        "outputId": "a087fc0f-1314-44d5-d999-fdfb80563ddc"
      },
      "execution_count": 48,
      "outputs": [
        {
          "output_type": "stream",
          "name": "stdout",
          "text": [
            "2h 39min\n",
            "3h 0min\n",
            "2h 21min\n",
            "2h 47min\n"
          ]
        }
      ]
    },
    {
      "cell_type": "markdown",
      "source": [
        "## **Scrapping Age Rating**"
      ],
      "metadata": {
        "id": "edb4gsNcRJQN"
      }
    },
    {
      "cell_type": "code",
      "source": [
        "# Write Your Code here\n",
        "# Movie Age Rating\n",
        "\n",
        "movie_age_rating_list = []# List to store all movie age rating\n",
        "\n",
        "# For every movie title present in movies_title_list , Finding their Age Rating\n",
        "for movie in movie_title_list:\n",
        "\n",
        "    # Constructing the absolute URL for fetching each movie\n",
        "    absolute_url = 'https://www.justwatch.com/in/movie/' + movie\n",
        "    response_g = requests.get(absolute_url)\n",
        "    soup = BeautifulSoup(response_g.text,'html.parser')\n",
        "\n",
        "    # Selecting only those h3 whose heading is Age rating\n",
        "    h3_element = soup.find('h3', class_='detail-infos__subheading', string='Age rating')\n",
        "\n",
        "    if h3_element:\n",
        "        # Check if the next sibling is a div with class \"detail-infos__value\"\n",
        "        div_element = h3_element.find_next_sibling('div', class_='detail-infos__value')\n",
        "\n",
        "        if div_element:\n",
        "            movie_age_rating_list.append(div_element.text.strip())\n",
        "        else:\n",
        "            movie_age_rating_list.append(\"Age Rating Not Listed.\")\n",
        "    else:\n",
        "         movie_age_rating_list.append(\"Age Rating Not Listed.\")\n",
        "# Printing age rating for first 4 movies for testing the code\n",
        "print('\\n'.join(movie_age_rating_list[0:4]))"
      ],
      "metadata": {
        "id": "ZsHskhOcNAUj",
        "colab": {
          "base_uri": "https://localhost:8080/"
        },
        "outputId": "f0cb3b35-6ca1-4925-fc60-effb8f7202d4"
      },
      "execution_count": 49,
      "outputs": [
        {
          "output_type": "stream",
          "name": "stdout",
          "text": [
            "UA\n",
            "UA\n",
            "Age Rating Not Listed.\n",
            "UA\n"
          ]
        }
      ]
    },
    {
      "cell_type": "markdown",
      "source": [
        "## **Fetching Production Countries Details**"
      ],
      "metadata": {
        "id": "_RI5FD3CqFVV"
      }
    },
    {
      "cell_type": "code",
      "source": [
        "# Movie Production Country\n",
        "\n",
        "movie_production_country_list=[]# List to store all movie production country\n",
        "\n",
        "# For every movie title present in movies_title_list , Finding their Production country\n",
        "for movie in movie_title_list:\n",
        "\n",
        "    # Constructing the absolute URL for fetching each movie\n",
        "    absolute_url = 'https://www.justwatch.com/in/movie/' + movie\n",
        "    response = requests.get(absolute_url)\n",
        "    soup = BeautifulSoup(response.text,'html.parser')\n",
        "\n",
        "    # Selecting only those h3 whose sub-heading inside details- infos is 'Production Country'\n",
        "    h3_element = soup.find('h3', class_='detail-infos__subheading', string=' Production country ')\n",
        "\n",
        "    if h3_element:\n",
        "        # Check if the next sibling is a div with class \"detail-infos__value\"\n",
        "        div_element = h3_element.find_next_sibling('div', class_='detail-infos__value')\n",
        "\n",
        "        if div_element:\n",
        "            movie_production_country_list.append(div_element.text.strip())\n",
        "        else:\n",
        "            movie_production_country_list.append(\"Production Country Not Listed\")\n",
        "    else:\n",
        "       movie_production_country_list.append(\"Production Country Not Listed\")\n",
        "\n",
        "# Printing production country details for first 4 movies for testing the code\n",
        "print('\\n'.join(movie_production_country_list[0:4]))"
      ],
      "metadata": {
        "id": "ai6YOgZmYIcc",
        "colab": {
          "base_uri": "https://localhost:8080/"
        },
        "outputId": "9e2ecf23-05a1-4913-fd60-55d705c980f1"
      },
      "execution_count": 50,
      "outputs": [
        {
          "output_type": "stream",
          "name": "stdout",
          "text": [
            "India\n",
            "United Kingdom, United States\n",
            "India\n",
            "India\n"
          ]
        }
      ]
    },
    {
      "cell_type": "markdown",
      "source": [
        "## **Fetching Streaming Service Details**"
      ],
      "metadata": {
        "id": "IrJlIsBWrO2r"
      }
    },
    {
      "cell_type": "code",
      "source": [
        "# Movie Streaming Service Platform\n",
        "\n",
        "movie_streaming_list=[]# List to store all movie streaming platform\n",
        "\n",
        "# For every movie title present in movies_title_list , Finding their Streaming Platform\n",
        "for movie in movie_title_list:\n",
        "\n",
        "    # Constructing the absolute URL for fetching each movie\n",
        "    absolute_url = 'https://www.justwatch.com/in/movie/' + movie\n",
        "    response = requests.get(absolute_url)\n",
        "    soup = BeautifulSoup(response.text,'html.parser')\n",
        "\n",
        "    # Finding the outer div element with the class \"buybox-row stream\"\n",
        "    outer_div = soup.find('div', class_='buybox-row stream')\n",
        "\n",
        "    if outer_div:\n",
        "        # Finding the nested div with class \"buybox-row__offers\" inside the outer div\n",
        "        inner_div = outer_div.find('div', class_='buybox-row__offers')\n",
        "\n",
        "        if inner_div:\n",
        "            # Find the picture element within the nested div\n",
        "            picture_element = inner_div.find('picture')\n",
        "\n",
        "            if picture_element:\n",
        "                # Extract the alt attribute from the img element inside the picture which contains streaming platform name\n",
        "                img_element = picture_element.find('img')\n",
        "                if img_element:\n",
        "                    alt_text = img_element['alt']\n",
        "                    movie_streaming_list.append(alt_text)\n",
        "                else:\n",
        "                    movie_streaming_list.append(\"Not Available for Streaming.\")\n",
        "            else:\n",
        "                movie_streaming_list.append(\"Not Available for Streaming.\")\n",
        "        else:\n",
        "            movie_streaming_list.append(\"Not Available for Streaming.\")\n",
        "    else:\n",
        "        movie_streaming_list.append(\"Not Available for Streaming.\")\n",
        "\n",
        "# Printing streaming services details for first 4 movies for testing the code\n",
        "print('\\n'.join(movie_streaming_list[0:4]))"
      ],
      "metadata": {
        "id": "Yk72jDLZu7EZ",
        "colab": {
          "base_uri": "https://localhost:8080/"
        },
        "outputId": "c1875ff0-e05a-4491-db17-3947ed48d18b"
      },
      "execution_count": 51,
      "outputs": [
        {
          "output_type": "stream",
          "name": "stdout",
          "text": [
            "Jio Cinema\n",
            "Jio Cinema\n",
            "Amazon Prime Video\n",
            "Netflix\n"
          ]
        }
      ]
    },
    {
      "cell_type": "markdown",
      "source": [
        "## **Now Creating Movies DataFrame**"
      ],
      "metadata": {
        "id": "Mnh22VX_7f6K"
      }
    },
    {
      "cell_type": "code",
      "source": [
        "# Creating Movies Dataframe\n",
        "max_length = max(len(movie_title_list), len(movie_imdb_list), len(movie_release_year_list), len(movie_genre_list), len(movie_runtime_list), len(movie_age_rating_list), len(movie_production_country_list), len(movie_streaming_list), len(movie_url_list))\n",
        "\n",
        "movie_title_list += [None] * (max_length - len(movie_title_list))\n",
        "movie_imdb_list += [None] * (max_length - len(movie_imdb_list))\n",
        "movie_release_year_list += [None] * (max_length - len(movie_release_year_list))\n",
        "movie_genre_list += [None] * (max_length - len(movie_genre_list))\n",
        "movie_runtime_list += [None] * (max_length - len(movie_runtime_list))\n",
        "movie_age_rating_list += [None] * (max_length - len(movie_age_rating_list))\n",
        "movie_production_country_list += [None] * (max_length - len(movie_production_country_list))\n",
        "movie_streaming_list += [None] * (max_length - len(movie_streaming_list))\n",
        "movie_url_list += [None] * (max_length - len(movie_url_list))\n",
        "\n",
        "data_movies = {\n",
        "    'Movie Title':movie_title_list,\n",
        "    'IMDB Rating':movie_imdb_list,\n",
        "    'Release Year':movie_release_year_list,\n",
        "    'Genre':movie_genre_list,\n",
        "    'Runtime/Duration':movie_runtime_list,\n",
        "    'Age Rating':movie_age_rating_list,\n",
        "    'Production Country':movie_production_country_list,\n",
        "    'Streaming Platform':movie_streaming_list,\n",
        "    'Url':movie_url_list\n",
        "}\n",
        "\n",
        "df_movies = pd.DataFrame(data_movies)\n",
        "# Printing first 5 elements of dataframe\n",
        "print(df_movies.head())"
      ],
      "metadata": {
        "id": "i7XQUICP5oBI",
        "colab": {
          "base_uri": "https://localhost:8080/"
        },
        "outputId": "2440ea67-b14f-4c2d-df47-203b342e0ac4"
      },
      "execution_count": 59,
      "outputs": [
        {
          "output_type": "stream",
          "name": "stdout",
          "text": [
            "                               Movie Title  IMDB Rating Release Year  \\\n",
            "0                                 HANU-MAN   8.0  (21k)         2024   \n",
            "1                              OPPENHEIMER  8.3  (706k)         2023   \n",
            "2  UNTITLED-SHAHID-KAPOOR-KRITI-SANON-FILM   6.6  (44k)         2024   \n",
            "3                             FIGHTER-2022   6.4  (42k)         2024   \n",
            "4                              POOR-THINGS  8.0  (225k)         2023   \n",
            "\n",
            "                                               Genre Runtime/Duration  \\\n",
            "0  Fantasy, Action & Adventure, Comedy, Science-F...         2h 39min   \n",
            "1                                     Drama, History          3h 0min   \n",
            "2            Comedy, Drama, Romance, Science-Fiction         2h 21min   \n",
            "3  Action & Adventure, Mystery & Thriller, War & ...         2h 47min   \n",
            "4            Science-Fiction, Romance, Comedy, Drama         2h 22min   \n",
            "\n",
            "               Age Rating                      Production Country  \\\n",
            "0                      UA                                   India   \n",
            "1                      UA           United Kingdom, United States   \n",
            "2  Age Rating Not Listed.                                   India   \n",
            "3                      UA                                   India   \n",
            "4                       A  United States, Ireland, United Kingdom   \n",
            "\n",
            "   Streaming Platform                                                Url  \n",
            "0          Jio Cinema        https://www.justwatch.com/in/movie/HANU-MAN  \n",
            "1          Jio Cinema     https://www.justwatch.com/in/movie/OPPENHEIMER  \n",
            "2  Amazon Prime Video  https://www.justwatch.com/in/movie/UNTITLED-SH...  \n",
            "3             Netflix    https://www.justwatch.com/in/movie/FIGHTER-2022  \n",
            "4             Hotstar     https://www.justwatch.com/in/movie/POOR-THINGS  \n"
          ]
        }
      ]
    },
    {
      "cell_type": "markdown",
      "source": [
        "## **Scraping TV  Show Data**"
      ],
      "metadata": {
        "id": "LYQ5acWzJRZr"
      }
    },
    {
      "cell_type": "code",
      "source": [
        "# Specifying the URL from which tv show related data will be fetched\n",
        "tv_url='https://www.justwatch.com/in/tv-shows?release_year_from=2000'\n",
        "# Sending an HTTP GET request to the URL\n",
        "page=requests.get(tv_url)\n",
        "# Parsing the HTML content using BeautifulSoup with the 'html.parser'\n",
        "soup_tv=BeautifulSoup(page.text,'html.parser')"
      ],
      "metadata": {
        "id": "j5kGocfblEYs"
      },
      "execution_count": 60,
      "outputs": []
    },
    {
      "cell_type": "markdown",
      "source": [
        "## **Fetching Tv shows Url details**"
      ],
      "metadata": {
        "id": "ev-VUSNvJ-fJ"
      }
    },
    {
      "cell_type": "code",
      "source": [
        "# For fetching URL, first defining tv show title list\n",
        "\n",
        "tv_show_title_list=[] # List to store all tv show title\n",
        "\n",
        "# Extracting all tv show titles and storing them in tv_show_titles\n",
        "tv_show_titles = soup_tv.find_all('a',class_='title-list-grid__item--link',attrs={'href':True})\n",
        "\n",
        "# Extracting each tv show title from tv_show_titles and storing in tv_show_title_list\n",
        "for tv_show_title in tv_show_titles:\n",
        "\n",
        "    # Extract the 'href' attribute value, which contains the tv_show title\n",
        "    data_id_value = tv_show_title['href']\n",
        "\n",
        "    # Removing the '/in/tv-show/' prefix to get the clean tv_show title\n",
        "    data_id_value = data_id_value.replace(\"/in/tv-show/\",\"\")\n",
        "\n",
        "    # Converting the tv_show title to uppercase and appending to the list\n",
        "    tv_show_title_list.append(data_id_value.upper())\n",
        "\n",
        "    # Fetching URL using tv show title\n",
        "tv_show_url_list=[] # List to store all tv show urls\n",
        "\n",
        "# For every tv show title present in tv_show_title_list , Finding their url\n",
        "for tv_show in tv_show_title_list:\n",
        "\n",
        "    # Constructing the absolute URL for fetching each tv show\n",
        "    absolute_url = 'https://www.justwatch.com/in/tv-show/' + tv_show\n",
        "\n",
        "    tv_show_url_list.append(absolute_url)\n",
        "\n",
        "#Printing first 4 tv show url\n",
        "print('\\n'.join(tv_show_url_list[0:4]))"
      ],
      "metadata": {
        "id": "eMlwT4I-8gGh",
        "colab": {
          "base_uri": "https://localhost:8080/"
        },
        "outputId": "51be4b7a-ce84-4c61-d9fa-0db4f5af6c60"
      },
      "execution_count": 74,
      "outputs": [
        {
          "output_type": "stream",
          "name": "stdout",
          "text": [
            "https://www.justwatch.com/in/tv-show/SHOGUN-2024\n",
            "https://www.justwatch.com/in/tv-show/MIRZAPUR\n",
            "https://www.justwatch.com/in/tv-show/3-BODY-PROBLEM\n",
            "https://www.justwatch.com/in/tv-show/PANCHAYAT\n"
          ]
        }
      ]
    },
    {
      "cell_type": "markdown",
      "source": [
        "## **Fetching Tv Show Title details**"
      ],
      "metadata": {
        "id": "1vZLzmqcKDPX"
      }
    },
    {
      "cell_type": "code",
      "source": [
        "# Tv show title has been extracted in previous block now printing first 4 tv show title\n",
        "print('\\n'.join(tv_show_title_list[0:4]))\n"
      ],
      "metadata": {
        "id": "a8Y6UF6-JLvO",
        "colab": {
          "base_uri": "https://localhost:8080/"
        },
        "outputId": "3f880bab-743a-47f4-d129-83a67bed0a12"
      },
      "execution_count": 75,
      "outputs": [
        {
          "output_type": "stream",
          "name": "stdout",
          "text": [
            "SHOGUN-2024\n",
            "MIRZAPUR\n",
            "3-BODY-PROBLEM\n",
            "PANCHAYAT\n"
          ]
        }
      ]
    },
    {
      "cell_type": "markdown",
      "source": [
        "## **Fetching Release Year**"
      ],
      "metadata": {
        "id": "mEIt9j6RKa9B"
      }
    },
    {
      "cell_type": "code",
      "source": [
        "    # Movie release year\n",
        "tv_show_release_year_list = []# List to store all movie release year\n",
        "\n",
        "# For every movie title present in movies_title_list , Finding their release year\n",
        "for tv_show in tv_show_title_list:\n",
        "\n",
        "    # Constructing the absolute URL for fetching each movie\n",
        "  absolute_url = 'https://www.justwatch.com/in/tv-show/' + tv_show\n",
        "\n",
        "    # Sending an HTTP GET request to the\n",
        "  response_ry = requests.get(absolute_url)\n",
        "\n",
        "    # Parsing HTML content with Beautiful Soup\n",
        "  soup_ry = BeautifulSoup(response_ry.text,'html.parser')\n",
        "  element = soup_ry.find('span', class_='text-muted')\n",
        "  if element:\n",
        "            tv_show_release_year = element.text.strip().strip(\"()\")\n",
        "  else:\n",
        "            tv_show_release_year = \"Not Found\"\n",
        "\n",
        "\n",
        "  tv_show_release_year=tv_show_release_year.replace(\"(\",\"\")\n",
        "  tv_show_release_year=tv_show_release_year.replace(\")\",\"\")\n",
        "  tv_show_release_year_list.append(tv_show_release_year)\n",
        "# Printing release year of first 4 tv shows for testing the code\n",
        "print('\\n'.join(tv_show_release_year_list[0:4]))"
      ],
      "metadata": {
        "id": "r72fyiF8JozW",
        "colab": {
          "base_uri": "https://localhost:8080/"
        },
        "outputId": "57828aa5-f2d4-4f97-970c-06f0823ff693"
      },
      "execution_count": 78,
      "outputs": [
        {
          "output_type": "stream",
          "name": "stdout",
          "text": [
            "2024\n",
            "Not Found\n",
            "Not Found\n",
            "Not Found\n"
          ]
        }
      ]
    },
    {
      "cell_type": "markdown",
      "source": [
        "## **Fetching TV Show Genre Details**"
      ],
      "metadata": {
        "id": "P96pGO9kRCLv"
      }
    },
    {
      "cell_type": "code",
      "source": [
        "# Tv Shows Genre\n",
        "\n",
        "tv_show_genre_list = [] # List to store all tv show Genres\n",
        "\n",
        "# For every tv show title present in tv_show_title_list , Finding their Genre\n",
        "for tv_show in tv_show_title_list:\n",
        "\n",
        "    # Constructing the absolute URL for fetching each tv show\n",
        "    absolute_url = 'https://www.justwatch.com/in/tv-show/' + tv_show\n",
        "    response = requests.get(absolute_url)\n",
        "    soup = BeautifulSoup(response.text,'html.parser')\n",
        "\n",
        "    # Selecting only those h3 whose heading is genres\n",
        "    h3_element = soup.find('h3', class_='detail-infos__subheading', string='Genres')\n",
        "\n",
        "    if h3_element:\n",
        "        # Check if the next sibling is a div with class \"detail-infos__value\"\n",
        "        div_element = h3_element.find_next_sibling('div', class_='detail-infos__value')\n",
        "\n",
        "        if div_element:\n",
        "            tv_show_genre_list.append(div_element.text.strip())\n",
        "        else:\n",
        "            tv_show_genre_list.append(\"Genre Not Listed\")\n",
        "    else:\n",
        "         tv_show_genre_list.append(\"Genre Not Listed\")\n",
        "\n",
        "# Printing genre of first 10 tv shows for testing the code\n",
        "print('\\n'.join(tv_show_genre_list[0:10]))"
      ],
      "metadata": {
        "id": "Jay8a9xgT43-",
        "colab": {
          "base_uri": "https://localhost:8080/"
        },
        "outputId": "f02e3883-f840-476c-d2d4-06a0d9980fc9"
      },
      "execution_count": 80,
      "outputs": [
        {
          "output_type": "stream",
          "name": "stdout",
          "text": [
            "Drama, War & Military, History\n",
            "Crime, Action & Adventure, Drama, Mystery & Thriller\n",
            "Science-Fiction, Mystery & Thriller, Drama, Fantasy\n",
            "Comedy, Drama\n",
            "Drama\n",
            "Crime, Action & Adventure, Comedy, Drama\n",
            "Fantasy, Action & Adventure, Drama, Science-Fiction\n",
            "Genre Not Listed\n",
            "Genre Not Listed\n",
            "Genre Not Listed\n"
          ]
        }
      ]
    },
    {
      "cell_type": "markdown",
      "source": [
        "## **Fetching IMDB Rating Details**"
      ],
      "metadata": {
        "id": "hk3eSdDAXQv8"
      }
    },
    {
      "cell_type": "code",
      "source": [
        "# Tv Shows  Imdb Rating\n",
        "\n",
        "tv_show_imdb_list = [] # List to store all tv show Imdb Rating\n",
        "\n",
        "# For every tv show title present in tv_show_title_list , Finding their Imdb Rating\n",
        "for tv_show in tv_show_title_list:\n",
        "\n",
        "    # Constructing the absolute URL for fetching each tv show\n",
        "    absolute_url = 'https://www.justwatch.com/in/tv-show/' + tv_show\n",
        "    response = requests.get(absolute_url)\n",
        "    soup = BeautifulSoup(response.text, 'html.parser')\n",
        "\n",
        "    # Selecting only those h3 whose heading is Rating\n",
        "    h3_element = soup.find('h3', class_='detail-infos__subheading', string='Rating')\n",
        "\n",
        "    if h3_element:\n",
        "        # Check if the next sibling is a div with class \"detail-infos__value\"\n",
        "        div_element = h3_element.find_next_sibling('div', class_='detail-infos__value')\n",
        "\n",
        "        if div_element:\n",
        "            inside_div = div_element.find_all('div', class_='jw-scoring-listing__rating')\n",
        "\n",
        "            # Check if inside_div is non-empty\n",
        "            if inside_div:\n",
        "                inside_div_last = inside_div[-1] # extracting last div of inside div as last div elemnt contains span (in which last span contains rating)\n",
        "\n",
        "                # Check if inside_div_last is non-empty\n",
        "                if inside_div_last:\n",
        "                    span_all = inside_div_last.find_all('span')\n",
        "\n",
        "                    # Check if span_all is non-empty\n",
        "                    if span_all:\n",
        "                        span_last = span_all[-1] # Here we are extracting rating from the last span(span_last) inside last div(inside_div_last) of main div_element(div_element)\n",
        "                        tv_show_imdb_list.append(span_last.text.strip())\n",
        "                    else:\n",
        "                        tv_show_imdb_list.append(\"Imdb Rating Not Listed.\")\n",
        "                else:\n",
        "                    tv_show_imdb_list.append(\"Imdb Rating Not Listed.\")\n",
        "            else:\n",
        "                tv_show_imdb_list.append(\"Imdb Rating Not Listed.\")\n",
        "        else:\n",
        "            tv_show_imdb_list.append(\"Imdb Rating Not Listed.\")\n",
        "    else:\n",
        "        tv_show_imdb_list.append(\"Imdb Rating Not Listed.\")\n",
        "# Printing imdb of first 10 tv shows for testing the code\n",
        "print('\\n'.join(tv_show_imdb_list[0:10]))\n",
        "\n"
      ],
      "metadata": {
        "id": "EmltFOQEXM2W",
        "colab": {
          "base_uri": "https://localhost:8080/"
        },
        "outputId": "afabcce2-0d96-476a-c61e-26edc0a66008"
      },
      "execution_count": 81,
      "outputs": [
        {
          "output_type": "stream",
          "name": "stdout",
          "text": [
            "9.1  (52k)\n",
            "8.5  (81k)\n",
            "7.7  (58k)\n",
            "8.9  (84k)\n",
            "7.9  (9k)\n",
            "8.2  (68k)\n",
            "9.2  (2m)\n",
            "Imdb Rating Not Listed.\n",
            "Imdb Rating Not Listed.\n",
            "Imdb Rating Not Listed.\n"
          ]
        }
      ]
    },
    {
      "cell_type": "markdown",
      "source": [
        "## **Fetching Age Rating Details**"
      ],
      "metadata": {
        "id": "XZ9nJhmiZB_W"
      }
    },
    {
      "cell_type": "code",
      "source": [
        "# Tv Shows Age Rating\n",
        "\n",
        "tv_show_age_rating_list = [] # List to store all tv show Age Ratings\n",
        "\n",
        "# For every tv show title present in tv_show_title_list , Finding their Age Rating\n",
        "for tv_show in tv_show_title_list:\n",
        "\n",
        "    # Constructing the absolute URL for fetching each tv show\n",
        "    absolute_url = 'https://www.justwatch.com/in/tv-show/' + tv_show\n",
        "    response = requests.get(absolute_url)\n",
        "    soup = BeautifulSoup(response.text,'html.parser')\n",
        "\n",
        "    # Selecting only those h3 whose heading is Age rating\n",
        "    h3_element = soup.find('h3', class_='detail-infos__subheading', string='Age rating')\n",
        "\n",
        "    if h3_element:\n",
        "        # Check if the next sibling is a div with class \"detail-infos__value\"\n",
        "        div_element = h3_element.find_next_sibling('div', class_='detail-infos__value')\n",
        "\n",
        "        if div_element:\n",
        "            tv_show_age_rating_list.append(div_element.text.strip())\n",
        "        else:\n",
        "            tv_show_age_rating_list.append(\"Age Rating Not Listed.\")\n",
        "    else:\n",
        "         tv_show_age_rating_list.append(\"Age Rating Not Listed.\")\n",
        "\n",
        "# Printing age rating of first 10 tv shows for testing the code\n",
        "print('\\n'.join(tv_show_age_rating_list[0:10]))\n"
      ],
      "metadata": {
        "id": "wR9Xo8piZA7p",
        "colab": {
          "base_uri": "https://localhost:8080/"
        },
        "outputId": "82e5bf6c-fbf9-4a8c-b87d-1460b9e86d0b"
      },
      "execution_count": 82,
      "outputs": [
        {
          "output_type": "stream",
          "name": "stdout",
          "text": [
            "Age Rating Not Listed.\n",
            "Age Rating Not Listed.\n",
            "A\n",
            "Age Rating Not Listed.\n",
            "UA\n",
            "A\n",
            "Age Rating Not Listed.\n",
            "Age Rating Not Listed.\n",
            "Age Rating Not Listed.\n",
            "Age Rating Not Listed.\n"
          ]
        }
      ]
    },
    {
      "cell_type": "markdown",
      "source": [
        "## **Fetching Production Country details**"
      ],
      "metadata": {
        "id": "ii49LH4tdNoN"
      }
    },
    {
      "cell_type": "code",
      "source": [
        "# Tv Shows Production Country\n",
        "\n",
        "tv_show_production_country_list=[] # List to store all tv show Production Countries\n",
        "\n",
        "# For every tv show title present in tv_show_title_list , Finding their Production country\n",
        "for tv_show in tv_show_title_list:\n",
        "\n",
        "    # Constructing the absolute URL for fetching each tv show\n",
        "    absolute_url = 'https://www.justwatch.com/in/tv-show/' + tv_show\n",
        "    response = requests.get(absolute_url)\n",
        "    soup = BeautifulSoup(response.text,'html.parser')\n",
        "\n",
        "    # Selecting only those h3 whose sub-heading inside details- infos is 'Production Country'\n",
        "    h3_element = soup.find('h3', class_='detail-infos__subheading', string=' Production country ')\n",
        "\n",
        "    if h3_element:\n",
        "        # Check if the next sibling is a div with class \"detail-infos__value\"\n",
        "        div_element = h3_element.find_next_sibling('div', class_='detail-infos__value')\n",
        "\n",
        "        if div_element:\n",
        "            tv_show_production_country_list.append(div_element.text.strip())\n",
        "        else:\n",
        "            tv_show_production_country_list.append(\"Production Country Not Listed\")\n",
        "    else:\n",
        "          tv_show_production_country_list.append(\"Production Country Not Listed\")\n",
        "\n",
        "# Printing production country details of first 10 tv shows for testing the code\n",
        "print('\\n'.join(tv_show_production_country_list[0:10]))"
      ],
      "metadata": {
        "id": "xihOeyN8XXDt",
        "colab": {
          "base_uri": "https://localhost:8080/"
        },
        "outputId": "befc3b72-a5e5-41f9-f43a-ae9ca8c44b98"
      },
      "execution_count": 83,
      "outputs": [
        {
          "output_type": "stream",
          "name": "stdout",
          "text": [
            "United States\n",
            "India\n",
            "United States\n",
            "India\n",
            "India\n",
            "United Kingdom, United States\n",
            "United States, United Kingdom\n",
            "India\n",
            "Production Country Not Listed\n",
            "Production Country Not Listed\n"
          ]
        }
      ]
    },
    {
      "cell_type": "markdown",
      "source": [
        "## **Fetching Streaming Service details**"
      ],
      "metadata": {
        "id": "mHZwwgiKdlQm"
      }
    },
    {
      "cell_type": "code",
      "source": [
        "# Tv Shows Streaming Platform\n",
        "\n",
        "tv_show_streaming_list=[] # List to store all tv show Streaming Platorms\n",
        "\n",
        "# For every tv show title present in tv_show_title_list , Finding their Streaming Platform\n",
        "for tv_show in tv_show_title_list:\n",
        "\n",
        "    # Constructing the absolute URL for fetching each tv show\n",
        "    absolute_url = 'https://www.justwatch.com/in/tv-show/' + tv_show\n",
        "    response = requests.get(absolute_url)\n",
        "    soup = BeautifulSoup(response.text,'html.parser')\n",
        "\n",
        "    # Finding the outer div element with the class \"buybox-row stream\"\n",
        "    outer_div = soup.find('div', class_='buybox-row stream')\n",
        "\n",
        "    if outer_div:\n",
        "        # Finding the nested div with class \"buybox-row__offers\" inside the outer div\n",
        "        inner_div = outer_div.find('div', class_='buybox-row__offers')\n",
        "\n",
        "        if inner_div:\n",
        "            # Find the picture element within the nested div\n",
        "            picture_element = inner_div.find('picture')\n",
        "\n",
        "            if picture_element:\n",
        "                # Extract the alt attribute from the img element inside the picture which contains streaming platform name\n",
        "                img_element = picture_element.find('img')\n",
        "                if img_element:\n",
        "                    alt_text = img_element['alt']\n",
        "                    tv_show_streaming_list.append(alt_text)\n",
        "                else:\n",
        "                    tv_show_streaming_list.append(\"Not Available for Streaming.\")\n",
        "            else:\n",
        "                tv_show_streaming_list.append(\"Not Available for Streaming.\")\n",
        "        else:\n",
        "            tv_show_streaming_list.append(\"Not Available for Streaming.\")\n",
        "    else:\n",
        "        tv_show_streaming_list.append(\"Not Available for Streaming.\")\n",
        "# Printing streamline services details of first 10 tv shows for testing the code\n",
        "print('\\n'.join(tv_show_streaming_list[0:10]))"
      ],
      "metadata": {
        "id": "_MBl6Vqadrl9",
        "colab": {
          "base_uri": "https://localhost:8080/"
        },
        "outputId": "5e0da33d-5bda-41bf-9c0d-7ff24937a4eb"
      },
      "execution_count": 84,
      "outputs": [
        {
          "output_type": "stream",
          "name": "stdout",
          "text": [
            "Hotstar\n",
            "Amazon Prime Video\n",
            "Netflix\n",
            "Amazon Prime Video\n",
            "Sony Liv\n",
            "Netflix\n",
            "Jio Cinema\n",
            "Not Available for Streaming.\n",
            "Not Available for Streaming.\n",
            "Not Available for Streaming.\n"
          ]
        }
      ]
    },
    {
      "cell_type": "markdown",
      "source": [
        "## **Fetching Duration Details**"
      ],
      "metadata": {
        "id": "uUOtDJv9gM4a"
      }
    },
    {
      "cell_type": "code",
      "source": [
        "# Tv Shows Runtime/Duration\n",
        "\n",
        "tv_show_runtime_list=[] # List to store all tv show Runtimes\n",
        "\n",
        "# For every tv show title present in tv_show_title_list , Finding their Runtime/Duration\n",
        "for tv_show in tv_show_title_list:\n",
        "\n",
        "    # Constructing the absolute URL for fetching each tv show\n",
        "    absolute_url = 'https://www.justwatch.com/in/tv-show/' + tv_show\n",
        "    response = requests.get(absolute_url)\n",
        "    soup = BeautifulSoup(response.text,'html.parser')\n",
        "\n",
        "    # Selecting only those h3 whose heading is runtine\n",
        "    h3_element = soup.find('h3', class_='detail-infos__subheading', string='Runtime')\n",
        "\n",
        "    if h3_element:\n",
        "        # Check if the next sibling is a div with class \"detail-infos__value\"\n",
        "        div_element = h3_element.find_next_sibling('div', class_='detail-infos__value')\n",
        "\n",
        "        if div_element:\n",
        "            tv_show_runtime_list.append(div_element.text.strip())\n",
        "        else:\n",
        "            tv_show_runtime_list.append(\"No Runtime/Duration mentioned\")\n",
        "    else:\n",
        "      tv_show_runtime_list.append(\"No Runtime/Duration mentioned\")\n",
        "\n",
        "# Printing duration details of first 10 tv shows for testing the code\n",
        "print('\\n'.join(tv_show_runtime_list[0:10]))\n"
      ],
      "metadata": {
        "id": "o4x4YY6AfoL1",
        "colab": {
          "base_uri": "https://localhost:8080/"
        },
        "outputId": "ff71c9c9-031c-4bb5-9e2d-3cfa8d724b0f"
      },
      "execution_count": 85,
      "outputs": [
        {
          "output_type": "stream",
          "name": "stdout",
          "text": [
            "58min\n",
            "50min\n",
            "56min\n",
            "33min\n",
            "No Runtime/Duration mentioned\n",
            "No Runtime/Duration mentioned\n",
            "No Runtime/Duration mentioned\n",
            "No Runtime/Duration mentioned\n",
            "No Runtime/Duration mentioned\n",
            "No Runtime/Duration mentioned\n"
          ]
        }
      ]
    },
    {
      "cell_type": "markdown",
      "source": [
        "## **Creating TV Show DataFrame**"
      ],
      "metadata": {
        "id": "nD4QVPT-nfVR"
      }
    },
    {
      "cell_type": "code",
      "source": [
        "# Creating Tv Shows Dataframe\n",
        "\n",
        "data_tv_shows = {\n",
        "    'Tv_Show Title':tv_show_title_list,\n",
        "    'IMDB Rating':tv_show_imdb_list,\n",
        "    'Release Year':tv_show_release_year_list,\n",
        "    'Genre':tv_show_genre_list,\n",
        "    'Runtime/Duration':tv_show_runtime_list,\n",
        "    'Age Rating':tv_show_age_rating_list,\n",
        "    'Production Country':tv_show_production_country_list,\n",
        "    'Streaming Platform':tv_show_streaming_list,\n",
        "    'Url':tv_show_url_list\n",
        "}\n",
        "\n",
        "df_tv_shows = pd.DataFrame(data_tv_shows)\n",
        "# Printing first 5 elements of dataframe\n",
        "print(df_tv_shows.head())\n"
      ],
      "metadata": {
        "id": "W3Lnlb-xip2U",
        "colab": {
          "base_uri": "https://localhost:8080/"
        },
        "outputId": "86d4d94a-065e-4480-de9c-85b4a6ce1ef4"
      },
      "execution_count": 87,
      "outputs": [
        {
          "output_type": "stream",
          "name": "stdout",
          "text": [
            "    Tv_Show Title IMDB Rating Release Year  \\\n",
            "0     SHOGUN-2024  9.1  (52k)         2024   \n",
            "1        MIRZAPUR  8.5  (81k)    Not Found   \n",
            "2  3-BODY-PROBLEM  7.7  (58k)    Not Found   \n",
            "3       PANCHAYAT  8.9  (84k)    Not Found   \n",
            "4   MAHARANI-2021   7.9  (9k)    Not Found   \n",
            "\n",
            "                                               Genre  \\\n",
            "0                     Drama, War & Military, History   \n",
            "1  Crime, Action & Adventure, Drama, Mystery & Th...   \n",
            "2  Science-Fiction, Mystery & Thriller, Drama, Fa...   \n",
            "3                                      Comedy, Drama   \n",
            "4                                              Drama   \n",
            "\n",
            "                Runtime/Duration              Age Rating Production Country  \\\n",
            "0                          58min  Age Rating Not Listed.      United States   \n",
            "1                          50min  Age Rating Not Listed.              India   \n",
            "2                          56min                       A      United States   \n",
            "3                          33min  Age Rating Not Listed.              India   \n",
            "4  No Runtime/Duration mentioned                      UA              India   \n",
            "\n",
            "   Streaming Platform                                                Url  \n",
            "0             Hotstar   https://www.justwatch.com/in/tv-show/SHOGUN-2024  \n",
            "1  Amazon Prime Video      https://www.justwatch.com/in/tv-show/MIRZAPUR  \n",
            "2             Netflix  https://www.justwatch.com/in/tv-show/3-BODY-PR...  \n",
            "3  Amazon Prime Video     https://www.justwatch.com/in/tv-show/PANCHAYAT  \n",
            "4            Sony Liv  https://www.justwatch.com/in/tv-show/MAHARANI-...  \n"
          ]
        }
      ]
    },
    {
      "cell_type": "markdown",
      "source": [
        "## **Task 2 :- Data Filtering & Analysis**"
      ],
      "metadata": {
        "id": "CyqHHKh4IDx6"
      }
    },
    {
      "cell_type": "code",
      "source": [
        "# Filtering movies and TV shows to include only those released in the last two years and with an IMDB Rating of 7 or higher.\n",
        "\n",
        "from datetime import datetime, timedelta\n",
        "\n",
        "# Get the current date\n",
        "current_date = datetime.now()\n",
        "\n",
        "# Calculate the date 2 years ago from the current date\n",
        "two_years_ago = current_date - timedelta(days=365 * 2)\n",
        "\n",
        "def filter_df(df, release_year_col, imdb_rating_col, years_ago, current_date):\n",
        "    # Convert 'Release Year' to datetime format\n",
        "    df[release_year_col] = pd.to_datetime(df[release_year_col], errors='coerce')\n",
        "\n",
        "    # Filter the DataFrame to include only entries released in the last `years_ago` years\n",
        "    filtered_df = df[(df[release_year_col] >= two_years_ago) & (df[release_year_col] <= current_date)].copy()\n",
        "\n",
        "    # Converting 'IMDB Rating' column to a string so that, in the next step, we can convert it to numeric values\n",
        "    filtered_df.loc[:, imdb_rating_col] = filtered_df[imdb_rating_col].astype(str)\n",
        "\n",
        "    # Extract numeric part and convert to numeric\n",
        "    filtered_df[imdb_rating_col] = pd.to_numeric(filtered_df[imdb_rating_col].str.extract(r'([\\d.]+)', expand=False), errors='coerce')\n",
        "\n",
        "    # Filter the DataFrame to include only entries whose IMDb Rating >= 7\n",
        "    filtered_df = filtered_df[filtered_df[imdb_rating_col] >= 7]\n",
        "\n",
        "    return filtered_df\n",
        "\n",
        "# Filtering Movies\n",
        "filtered_df_movies = filter_df(df_movies, 'Release Year', 'IMDB Rating', two_years_ago, current_date)\n",
        "\n",
        "# Filtering TV Shows\n",
        "filtered_df_tv_shows = filter_df(df_tv_shows, 'Release Year', 'IMDB Rating', two_years_ago, current_date)\n",
        "\n",
        "print(filtered_df_movies.head(2))\n",
        "print(filtered_df_tv_shows.head(2))\n",
        "\n"
      ],
      "metadata": {
        "id": "ly64H04vH1v9",
        "colab": {
          "base_uri": "https://localhost:8080/"
        },
        "outputId": "964d2a36-156a-4186-c03d-270b34bcf1a1"
      },
      "execution_count": 90,
      "outputs": [
        {
          "output_type": "stream",
          "name": "stdout",
          "text": [
            "   Movie Title  IMDB Rating Release Year  \\\n",
            "0     HANU-MAN          8.0   2024-01-01   \n",
            "1  OPPENHEIMER          8.3   2023-01-01   \n",
            "\n",
            "                                               Genre Runtime/Duration  \\\n",
            "0  Fantasy, Action & Adventure, Comedy, Science-F...         2h 39min   \n",
            "1                                     Drama, History          3h 0min   \n",
            "\n",
            "  Age Rating             Production Country Streaming Platform  \\\n",
            "0         UA                          India         Jio Cinema   \n",
            "1         UA  United Kingdom, United States         Jio Cinema   \n",
            "\n",
            "                                              Url  \n",
            "0     https://www.justwatch.com/in/movie/HANU-MAN  \n",
            "1  https://www.justwatch.com/in/movie/OPPENHEIMER  \n",
            "  Tv_Show Title  IMDB Rating Release Year                           Genre  \\\n",
            "0   SHOGUN-2024          9.1   2024-01-01  Drama, War & Military, History   \n",
            "\n",
            "  Runtime/Duration              Age Rating Production Country  \\\n",
            "0            58min  Age Rating Not Listed.      United States   \n",
            "\n",
            "  Streaming Platform                                               Url  \n",
            "0            Hotstar  https://www.justwatch.com/in/tv-show/SHOGUN-2024  \n"
          ]
        }
      ]
    },
    {
      "cell_type": "markdown",
      "source": [
        "## **Calculating Mean IMDB Ratings for both Movies and Tv Shows**"
      ],
      "metadata": {
        "id": "0bPDbn-gPyfm"
      }
    },
    {
      "cell_type": "code",
      "source": [
        "\n",
        "# Calculating Movies mean IMDb rating\n",
        "movie_mean_imdb = filtered_df_movies['IMDB Rating'].mean()\n",
        "movie_mean_imdb_rounded = round(movie_mean_imdb, 2)\n",
        "print(\"Mean IMDb Rating for Movies is:\", movie_mean_imdb_rounded)\n",
        "\n",
        "# Calculating Tv Shows mean IMDb rating\n",
        "tv_mean_imdb = filtered_df_tv_shows['IMDB Rating'].mean()\n",
        "tv_mean_imdb_rounded = round(tv_mean_imdb, 2)\n",
        "print(\"Mean IMDb Rating for Tv Shows is:\", tv_mean_imdb_rounded)\n"
      ],
      "metadata": {
        "id": "6aGmGPOlIkk4",
        "colab": {
          "base_uri": "https://localhost:8080/"
        },
        "outputId": "86095d7e-663a-4dee-ec96-503cb150568c"
      },
      "execution_count": 91,
      "outputs": [
        {
          "output_type": "stream",
          "name": "stdout",
          "text": [
            "Mean IMDb Rating for Movies is: 8.0\n",
            "Mean IMDb Rating for Tv Shows is: 9.1\n"
          ]
        }
      ]
    },
    {
      "cell_type": "markdown",
      "source": [
        "## **Analyzing Top Genres**"
      ],
      "metadata": {
        "id": "N_OroblUQG4r"
      }
    },
    {
      "cell_type": "code",
      "source": [
        "# Top Movies Genres\n",
        "\n",
        "all_genres = ' '.join(filtered_df_movies['Genre'])\n",
        "\n"
      ],
      "metadata": {
        "id": "4ljPnIn2LJLZ"
      },
      "execution_count": 96,
      "outputs": []
    },
    {
      "cell_type": "code",
      "source": [
        "#Let's Visvalize it using word cloud\n",
        "wordcloud = WordCloud(width=800, height=400, background_color='white').generate(all_genres)\n",
        "plt.figure(figsize=(10, 5))\n",
        "plt.imshow(wordcloud, interpolation='bilinear')\n",
        "plt.axis('off')\n",
        "plt.show()\n",
        "plt.show()\n"
      ],
      "metadata": {
        "id": "7Nqu7MEEYa3c",
        "colab": {
          "base_uri": "https://localhost:8080/",
          "height": 422
        },
        "outputId": "83318474-cd72-41e4-fe44-431ceaec5957"
      },
      "execution_count": 95,
      "outputs": [
        {
          "output_type": "display_data",
          "data": {
            "text/plain": [
              "<Figure size 1000x500 with 1 Axes>"
            ],
            "image/png": "[encoded data removed]"
          },
          "metadata": {}
        }
      ]
    },
    {
      "cell_type": "markdown",
      "source": [
        "## **Finding Predominant Streaming Service**"
      ],
      "metadata": {
        "id": "BUPye0P0QP5I"
      }
    },
    {
      "cell_type": "code",
      "source": [
        "# Funtion for Finding  Movies / Tv Shows Predominant Streaming Service\n",
        "\n",
        "# Funtion for Finding  Movies / Tv Shows Predominant Streaming Service\n",
        "\n",
        "def visualize_streaming_distribution_wordcloud(df):\n",
        "    # Filter streaming information available\n",
        "    streaming_platforms = df[df['Streaming Platform'] != 'Not Available for Streaming.']['Streaming Platform']\n",
        "\n",
        "    # Create a string of streaming platforms\n",
        "    streaming_text = ' '.join(streaming_platforms)\n",
        "\n",
        "    # Generate the word cloud\n",
        "    wordcloud = WordCloud(width=800, height=400, background_color='white').generate(streaming_text)\n",
        "\n",
        "    # Display the word cloud\n",
        "    plt.figure(figsize=(10, 6))\n",
        "    plt.imshow(wordcloud, interpolation='bilinear')\n",
        "    plt.axis('off')\n",
        "    plt.title('Streaming Service Distribution - Word Cloud')\n",
        "    plt.show()\n",
        "\n",
        "    # Identify the predominant streaming service\n",
        "    predominant_service = streaming_platforms.mode().iloc[0]\n",
        "    print(f\"The predominant streaming service is: {predominant_service}\")\n",
        "\n"
      ],
      "metadata": {
        "id": "cLXiCZSAO_40"
      },
      "execution_count": 106,
      "outputs": []
    },
    {
      "cell_type": "code",
      "source": [
        "# Visualizing Movies Predominant Streaming Platform using Word Cloud\n",
        "visualize_streaming_distribution_wordcloud(filtered_df_movies)"
      ],
      "metadata": {
        "id": "e0xdIO8APJYm",
        "colab": {
          "base_uri": "https://localhost:8080/",
          "height": 463
        },
        "outputId": "4b220da2-857e-46f4-82e4-5ef8adf4e83d"
      },
      "execution_count": 107,
      "outputs": [
        {
          "output_type": "display_data",
          "data": {
            "text/plain": [
              "<Figure size 1000x600 with 1 Axes>"
            ],
            "image/png": "[encoded data removed]"
          },
          "metadata": {}
        },
        {
          "output_type": "stream",
          "name": "stdout",
          "text": [
            "The predominant streaming service is: Jio Cinema\n"
          ]
        }
      ]
    },
    {
      "cell_type": "markdown",
      "source": [
        "## **Task 3 :- Data Export**"
      ],
      "metadata": {
        "id": "tytqsADVR2x6"
      }
    },
    {
      "cell_type": "code",
      "source": [
        "#saving final dataframe as Final Data in csv format\n",
        "df_movies.to_csv('Final_Movies_Data.csv', index=False)\n",
        "df_tv_shows.to_csv('Final_Tv_Shows_Data.csv', index=False)"
      ],
      "metadata": {
        "id": "u4yaUlvrRj6g"
      },
      "execution_count": 108,
      "outputs": []
    },
    {
      "cell_type": "code",
      "source": [
        "#saving filter data as Filter Data in csv format\n",
        "filtered_df_movies.to_csv('Filtered_Movies_Data.csv', index=False)\n",
        "filtered_df_tv_shows.to_csv('Filtered_Tv_Shows_Data.csv', index=False)"
      ],
      "metadata": {
        "id": "SSmCEV22SSW_"
      },
      "execution_count": 109,
      "outputs": []
    },
    {
      "cell_type": "markdown",
      "source": [
        "# **Dataset Drive Link (View Access with Anyone) -**"
      ],
      "metadata": {
        "id": "j6F3wrlGWOcl"
      }
    },
    {
      "cell_type": "markdown",
      "source": [
        "# **Link for Filtered Movie Dataset**\n",
        "https://drive.google.com/file/d/1x6Pa9LQzpL9mVBxjLrA7VkbaRMUYxN4W/view?usp=sharing\n",
        "\n",
        "# **Link for Final Movie Data Set**\n",
        "\n",
        "https://drive.google.com/file/d/1LNKdPp_NEsEi556R7QPZY-BDytpnneIz/view?usp=sharing\n",
        "\n",
        "# **Link for Filtered Tv Show Dataset**\n",
        "\n",
        "https://drive.google.com/file/d/1zOwacDXth_3tE-OWiyNARADvaXQuTK1i/view?usp=sharing\n",
        "\n",
        "# **Link for Final Tv Show Dataset**\n",
        "\n",
        "https://drive.google.com/file/d/1GpctfxzMM23l8ZjQ7sW8ClUUwdaZnnBY/view?usp=sharing\n"
      ],
      "metadata": {
        "id": "HPOPJp8lwhn9"
      }
    },
    {
      "cell_type": "markdown",
      "source": [
        "# ***Congratulations!!! You have completed your Assignment.***"
      ],
      "metadata": {
        "id": "9s-10dFhWZf4"
      }
    }
  ]
}